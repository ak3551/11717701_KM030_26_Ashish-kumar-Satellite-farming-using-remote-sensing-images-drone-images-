{
  "nbformat": 4,
  "nbformat_minor": 0,
  "metadata": {
    "colab": {
      "name": "machine learning project(Satellite farming using remote sensing images/ drone images)",
      "provenance": [],
      "collapsed_sections": [],
      "machine_shape": "hm"
    },
    "kernelspec": {
      "name": "python3",
      "display_name": "Python 3"
    }
  },
  "cells": [
    {
      "cell_type": "code",
      "metadata": {
        "id": "9cVWcJZOxWXJ",
        "colab_type": "code",
        "outputId": "a86e62d2-dd31-4971-ca4c-14435363c54b",
        "colab": {
          "base_uri": "https://localhost:8080/",
          "height": 122
        }
      },
      "source": [
        "from google.colab import drive\n",
        "drive.mount('/content/drive', force_remount=True)\n",
        "# acess key: 4/ygGJq1UW4qD_tdrg0nQP2pQhrZztW80rvc1MuI7iUfRqxC-sRnBtRKE"
      ],
      "execution_count": 4,
      "outputs": [
        {
          "output_type": "stream",
          "text": [
            "Go to this URL in a browser: https://accounts.google.com/o/oauth2/auth?client_id=947318989803-6bn6qk8qdgf4n4g3pfee6491hc0brc4i.apps.googleusercontent.com&redirect_uri=urn%3aietf%3awg%3aoauth%3a2.0%3aoob&response_type=code&scope=email%20https%3a%2f%2fwww.googleapis.com%2fauth%2fdocs.test%20https%3a%2f%2fwww.googleapis.com%2fauth%2fdrive%20https%3a%2f%2fwww.googleapis.com%2fauth%2fdrive.photos.readonly%20https%3a%2f%2fwww.googleapis.com%2fauth%2fpeopleapi.readonly\n",
            "\n",
            "Enter your authorization code:\n",
            "··········\n",
            "Mounted at /content/drive\n"
          ],
          "name": "stdout"
        }
      ]
    },
    {
      "cell_type": "code",
      "metadata": {
        "id": "vPqWNcjBKWNr",
        "colab_type": "code",
        "colab": {}
      },
      "source": [
        "import numpy as np # linear algebra\n",
        "import pandas as pd # data processing, CSV file I/O (e.g. pd.read_csv)\n",
        "import matplotlib.pyplot as plt # visualize satellite images\n",
        "from skimage.io import imshow # visualize satellite images\n",
        "\n",
        "from keras.layers import Dense, Conv2D, MaxPooling2D, Flatten, Dropout # components of network\n",
        "from keras.models import Sequential # type of model"
      ],
      "execution_count": 0,
      "outputs": []
    },
    {
      "cell_type": "code",
      "metadata": {
        "id": "RfqXJbMNKZGg",
        "colab_type": "code",
        "outputId": "3e503a5f-d626-49e1-bed8-47f1946654b6",
        "colab": {
          "base_uri": "https://localhost:8080/",
          "height": 68
        }
      },
      "source": [
        "x_train_set_fpath = '/content/drive/My Drive/X_test_sat4.csv'\n",
        "y_train_set_fpath = '/content/drive/My Drive/y_test_sat4.csv'\n",
        "print ('Loading Training Data')\n",
        "X_train = pd.read_csv(x_train_set_fpath)\n",
        "print ('Loaded 28 x 28 x 4 images')\n",
        "\n",
        "Y_train = pd.read_csv(y_train_set_fpath)\n",
        "print ('Loaded labels')"
      ],
      "execution_count": 60,
      "outputs": [
        {
          "output_type": "stream",
          "text": [
            "Loading Training Data\n",
            "Loaded 28 x 28 x 4 images\n",
            "Loaded labels\n"
          ],
          "name": "stdout"
        }
      ]
    },
    {
      "cell_type": "code",
      "metadata": {
        "id": "iDVB_B6uKfDd",
        "colab_type": "code",
        "outputId": "545f594c-3641-4492-f8ee-45f5fe800a83",
        "colab": {
          "base_uri": "https://localhost:8080/",
          "height": 34
        }
      },
      "source": [
        "X_train = X_train.to_numpy()\n",
        "Y_train = Y_train.to_numpy()\n",
        "print ('We have',X_train.shape[0],'examples and each example is a list of',X_train.shape[1],'numbers with',Y_train.shape[1],'possible classifications.')"
      ],
      "execution_count": 61,
      "outputs": [
        {
          "output_type": "stream",
          "text": [
            "We have 99999 examples and each example is a list of 3136 numbers with 4 possible classifications.\n"
          ],
          "name": "stdout"
        }
      ]
    },
    {
      "cell_type": "code",
      "metadata": {
        "id": "2aluCgGuLOAt",
        "colab_type": "code",
        "outputId": "da3c003a-638c-41cd-a5a9-89981ace1990",
        "colab": {
          "base_uri": "https://localhost:8080/",
          "height": 1000
        }
      },
      "source": [
        "#First we have to reshape each of them from a list of numbers to a 28*28*4 image.\n",
        "X_train_img = X_train.reshape([99999,28,28,4]).astype(float)\n",
        "print (X_train_img)"
      ],
      "execution_count": 62,
      "outputs": [
        {
          "output_type": "stream",
          "text": [
            "[[[[164. 139. 111. 196.]\n",
            "   [171. 147. 122. 201.]\n",
            "   [168. 139. 114. 197.]\n",
            "   ...\n",
            "   [171. 139. 109. 198.]\n",
            "   [171. 140. 112. 197.]\n",
            "   [172. 142. 116. 197.]]\n",
            "\n",
            "  [[165. 144. 115. 197.]\n",
            "   [169. 142. 115. 197.]\n",
            "   [165. 138. 110. 196.]\n",
            "   ...\n",
            "   [174. 145. 118. 199.]\n",
            "   [184. 160. 136. 208.]\n",
            "   [176. 147. 122. 199.]]\n",
            "\n",
            "  [[163. 136. 109. 193.]\n",
            "   [164. 139. 109. 195.]\n",
            "   [175. 152. 124. 202.]\n",
            "   ...\n",
            "   [169. 136. 109. 193.]\n",
            "   [170. 142. 115. 195.]\n",
            "   [186. 159. 140. 207.]]\n",
            "\n",
            "  ...\n",
            "\n",
            "  [[173. 147. 122. 200.]\n",
            "   [174. 149. 126. 201.]\n",
            "   [170. 144. 120. 198.]\n",
            "   ...\n",
            "   [159. 129.  94. 191.]\n",
            "   [159. 128.  95. 191.]\n",
            "   [170. 141. 115. 199.]]\n",
            "\n",
            "  [[170. 145. 115. 200.]\n",
            "   [164. 136. 108. 195.]\n",
            "   [174. 151. 127. 202.]\n",
            "   ...\n",
            "   [170. 141. 112. 198.]\n",
            "   [170. 144. 116. 200.]\n",
            "   [162. 134. 105. 192.]]\n",
            "\n",
            "  [[170. 140. 117. 201.]\n",
            "   [171. 145. 122. 202.]\n",
            "   [170. 144. 118. 200.]\n",
            "   ...\n",
            "   [169. 141. 108. 196.]\n",
            "   [164. 140. 111. 195.]\n",
            "   [174. 152. 127. 202.]]]\n",
            "\n",
            "\n",
            " [[[120. 114. 114. 132.]\n",
            "   [111. 105. 100. 128.]\n",
            "   [ 61.  45.  25.  86.]\n",
            "   ...\n",
            "   [123. 117. 117. 155.]\n",
            "   [ 93.  82.  63. 132.]\n",
            "   [ 81.  82.  69. 141.]]\n",
            "\n",
            "  [[121. 115. 112. 139.]\n",
            "   [100.  95.  89. 131.]\n",
            "   [ 79.  69.  57. 122.]\n",
            "   ...\n",
            "   [114. 107.  88. 125.]\n",
            "   [133. 123. 105. 160.]\n",
            "   [ 81.  82.  63. 140.]]\n",
            "\n",
            "  [[116. 114. 107. 133.]\n",
            "   [ 94.  87.  81. 122.]\n",
            "   [ 86.  78.  77. 136.]\n",
            "   ...\n",
            "   [159. 156. 151. 180.]\n",
            "   [151. 142. 138. 178.]\n",
            "   [ 70.  65.  44. 112.]]\n",
            "\n",
            "  ...\n",
            "\n",
            "  [[125. 113.  93. 134.]\n",
            "   [204. 205. 216. 219.]\n",
            "   [217. 229. 237. 230.]\n",
            "   ...\n",
            "   [220. 235. 235. 234.]\n",
            "   [222. 233. 237. 234.]\n",
            "   [220. 229. 233. 231.]]\n",
            "\n",
            "  [[161. 159. 155. 181.]\n",
            "   [225. 233. 237. 233.]\n",
            "   [216. 224. 227. 228.]\n",
            "   ...\n",
            "   [222. 231. 233. 231.]\n",
            "   [225. 233. 237. 232.]\n",
            "   [225. 231. 235. 231.]]\n",
            "\n",
            "  [[217. 227. 229. 230.]\n",
            "   [220. 224. 227. 226.]\n",
            "   [219. 225. 229. 228.]\n",
            "   ...\n",
            "   [220. 231. 235. 232.]\n",
            "   [225. 225. 227. 230.]\n",
            "   [194. 183. 186. 206.]]]\n",
            "\n",
            "\n",
            " [[[126. 121.  99. 166.]\n",
            "   [129. 122. 106. 167.]\n",
            "   [127. 123. 108. 166.]\n",
            "   ...\n",
            "   [125. 123. 104. 178.]\n",
            "   [125. 125. 105. 179.]\n",
            "   [125. 126. 105. 179.]]\n",
            "\n",
            "  [[126. 123. 102. 170.]\n",
            "   [128. 122. 107. 169.]\n",
            "   [131. 125. 112. 167.]\n",
            "   ...\n",
            "   [123. 122. 105. 173.]\n",
            "   [122. 121. 104. 175.]\n",
            "   [124. 125. 104. 175.]]\n",
            "\n",
            "  [[121. 122.  94. 171.]\n",
            "   [126. 122.  98. 167.]\n",
            "   [129. 125. 104. 166.]\n",
            "   ...\n",
            "   [130. 129. 113. 175.]\n",
            "   [126. 125. 107. 172.]\n",
            "   [126. 125. 105. 172.]]\n",
            "\n",
            "  ...\n",
            "\n",
            "  [[127. 125. 110. 169.]\n",
            "   [129. 128. 113. 172.]\n",
            "   [123. 123. 103. 171.]\n",
            "   ...\n",
            "   [126. 124. 101. 172.]\n",
            "   [127. 124. 101. 175.]\n",
            "   [131. 126. 104. 175.]]\n",
            "\n",
            "  [[131. 127. 113. 175.]\n",
            "   [134. 133. 118. 178.]\n",
            "   [123. 121. 100. 170.]\n",
            "   ...\n",
            "   [124. 121.  93. 172.]\n",
            "   [129. 125. 102. 174.]\n",
            "   [133. 129. 111. 178.]]\n",
            "\n",
            "  [[130. 128. 107. 173.]\n",
            "   [129. 126. 105. 176.]\n",
            "   [126. 124. 103. 175.]\n",
            "   ...\n",
            "   [129. 123. 104. 177.]\n",
            "   [133. 126. 107. 177.]\n",
            "   [131. 124. 104. 171.]]]\n",
            "\n",
            "\n",
            " ...\n",
            "\n",
            "\n",
            " [[[145. 141. 125. 159.]\n",
            "   [147. 140. 122. 159.]\n",
            "   [146. 136. 122. 161.]\n",
            "   ...\n",
            "   [162. 149. 127. 169.]\n",
            "   [169. 154. 133. 169.]\n",
            "   [169. 150. 130. 168.]]\n",
            "\n",
            "  [[147. 145. 125. 160.]\n",
            "   [147. 145. 125. 160.]\n",
            "   [152. 144. 126. 159.]\n",
            "   ...\n",
            "   [157. 147. 126. 169.]\n",
            "   [163. 154. 130. 170.]\n",
            "   [165. 151. 130. 170.]]\n",
            "\n",
            "  [[149. 147. 127. 162.]\n",
            "   [145. 142. 127. 161.]\n",
            "   [150. 147. 130. 160.]\n",
            "   ...\n",
            "   [153. 144. 122. 168.]\n",
            "   [148. 141. 124. 170.]\n",
            "   [145. 137. 126. 168.]]\n",
            "\n",
            "  ...\n",
            "\n",
            "  [[200. 184. 158. 185.]\n",
            "   [196. 179. 159. 183.]\n",
            "   [189. 173. 150. 178.]\n",
            "   ...\n",
            "   [158. 149. 133. 169.]\n",
            "   [150. 142. 127. 164.]\n",
            "   [140. 142. 121. 165.]]\n",
            "\n",
            "  [[195. 182. 157. 180.]\n",
            "   [197. 180. 156. 179.]\n",
            "   [190. 175. 152. 178.]\n",
            "   ...\n",
            "   [163. 152. 135. 168.]\n",
            "   [153. 150. 130. 165.]\n",
            "   [147. 146. 126. 163.]]\n",
            "\n",
            "  [[202. 188. 151. 177.]\n",
            "   [196. 183. 153. 176.]\n",
            "   [187. 173. 148. 179.]\n",
            "   ...\n",
            "   [162. 153. 131. 167.]\n",
            "   [155. 150. 130. 165.]\n",
            "   [150. 145. 131. 163.]]]\n",
            "\n",
            "\n",
            " [[[151. 134. 126. 150.]\n",
            "   [142. 126. 118. 143.]\n",
            "   [130. 116. 104. 138.]\n",
            "   ...\n",
            "   [123. 107.  96. 130.]\n",
            "   [132. 117. 106. 138.]\n",
            "   [137. 123. 113. 142.]]\n",
            "\n",
            "  [[130. 110.  98. 132.]\n",
            "   [130. 113. 102. 135.]\n",
            "   [132. 120. 111. 138.]\n",
            "   ...\n",
            "   [122. 106.  96. 127.]\n",
            "   [133. 118. 108. 136.]\n",
            "   [139. 124. 114. 144.]]\n",
            "\n",
            "  [[137. 122. 110. 141.]\n",
            "   [124. 110.  99. 133.]\n",
            "   [126. 113. 105. 135.]\n",
            "   ...\n",
            "   [122. 108.  97. 128.]\n",
            "   [134. 120. 109. 137.]\n",
            "   [149. 134. 123. 150.]]\n",
            "\n",
            "  ...\n",
            "\n",
            "  [[170. 147. 135. 159.]\n",
            "   [156. 131. 119. 149.]\n",
            "   [151. 129. 111. 147.]\n",
            "   ...\n",
            "   [109. 108.  98. 140.]\n",
            "   [106. 101.  93. 138.]\n",
            "   [109. 104.  95. 142.]]\n",
            "\n",
            "  [[155. 131. 113. 147.]\n",
            "   [138. 110.  88. 133.]\n",
            "   [142. 120. 100. 140.]\n",
            "   ...\n",
            "   [108. 103.  95. 136.]\n",
            "   [109. 103.  95. 138.]\n",
            "   [110. 104.  95. 140.]]\n",
            "\n",
            "  [[150. 128. 100. 145.]\n",
            "   [143. 127.  97. 145.]\n",
            "   [138. 119.  93. 135.]\n",
            "   ...\n",
            "   [116. 105.  99. 136.]\n",
            "   [112. 104.  96. 137.]\n",
            "   [112. 105.  96. 138.]]]\n",
            "\n",
            "\n",
            " [[[158. 155. 145. 202.]\n",
            "   [163. 161. 151. 209.]\n",
            "   [137. 133. 109. 182.]\n",
            "   ...\n",
            "   [124. 117. 106. 159.]\n",
            "   [137. 140. 128. 176.]\n",
            "   [124. 124. 113. 167.]]\n",
            "\n",
            "  [[138. 134. 120. 178.]\n",
            "   [152. 149. 134. 193.]\n",
            "   [176. 173. 157. 221.]\n",
            "   ...\n",
            "   [102.  94.  77. 137.]\n",
            "   [141. 140. 128. 183.]\n",
            "   [108. 105.  87. 151.]]\n",
            "\n",
            "  [[130. 125. 108. 171.]\n",
            "   [137. 134. 120. 184.]\n",
            "   [160. 158. 143. 207.]\n",
            "   ...\n",
            "   [123. 116. 103. 162.]\n",
            "   [145. 141. 132. 188.]\n",
            "   [152. 150. 137. 199.]]\n",
            "\n",
            "  ...\n",
            "\n",
            "  [[148. 145. 127. 185.]\n",
            "   [125. 114. 100. 158.]\n",
            "   [145. 138. 122. 187.]\n",
            "   ...\n",
            "   [117. 120. 113. 155.]\n",
            "   [ 84.  82.  77. 119.]\n",
            "   [ 93.  91.  84. 129.]]\n",
            "\n",
            "  [[146. 148. 133. 196.]\n",
            "   [147. 142. 127. 192.]\n",
            "   [174. 172. 158. 226.]\n",
            "   ...\n",
            "   [101. 102.  94. 132.]\n",
            "   [ 99.  98.  93. 127.]\n",
            "   [106. 104.  97. 134.]]\n",
            "\n",
            "  [[120. 117.  99. 163.]\n",
            "   [105.  97.  76. 148.]\n",
            "   [173. 170. 154. 221.]\n",
            "   ...\n",
            "   [115. 116. 108. 145.]\n",
            "   [ 82.  83.  69. 113.]\n",
            "   [131. 136. 126. 165.]]]]\n"
          ],
          "name": "stdout"
        }
      ]
    },
    {
      "cell_type": "code",
      "metadata": {
        "id": "PdWredtFNFGb",
        "colab_type": "code",
        "outputId": "6c550f57-78fe-4757-d635-978491232114",
        "colab": {
          "base_uri": "https://localhost:8080/",
          "height": 282
        }
      },
      "source": [
        "#Let's take a look at one image. Keep in mind the channels are R,G,B, and I(Infrared)\n",
        "ix = 10 #Type a number between 0 and 99,999 inclusive\n",
        "if(X_train_img[ix,0,0,0]>1):\n",
        "  plt.imshow(np.squeeze(X_train_img[ix,:,:,0:3]).astype(float)/255) #Only seeing the RGB channels\n",
        "else:\n",
        "  plt.imshow(np.squeeze(X_train_img[ix,:,:,0:3]).astype(float))\n",
        "plt.show()\n",
        "#Tells what the image is\n",
        "if Y_train[ix,0] == 1:\n",
        "    print ('Barren Land')\n",
        "elif Y_train[ix,1] == 1:\n",
        "    print ('Trees')\n",
        "elif Y_train[ix,2] == 1:\n",
        "    print ('Grassland')\n",
        "else:\n",
        "    print ('Other')"
      ],
      "execution_count": 63,
      "outputs": [
        {
          "output_type": "display_data",
          "data": {
            "image/png": "[encoded data removed]",
            "text/plain": [
              "<Figure size 432x288 with 1 Axes>"
            ]
          },
          "metadata": {
            "tags": [],
            "needs_background": "light"
          }
        },
        {
          "output_type": "stream",
          "text": [
            "Trees\n"
          ],
          "name": "stdout"
        }
      ]
    },
    {
      "cell_type": "code",
      "metadata": {
        "id": "776OMkLYNM_a",
        "colab_type": "code",
        "colab": {}
      },
      "source": [
        "model = Sequential([\n",
        "    Dense(4, input_shape=(3136,), activation='softmax')\n",
        "])"
      ],
      "execution_count": 0,
      "outputs": []
    },
    {
      "cell_type": "code",
      "metadata": {
        "id": "F_ldoSJkNU3M",
        "colab_type": "code",
        "colab": {}
      },
      "source": [
        "X_train = X_train/255"
      ],
      "execution_count": 0,
      "outputs": []
    },
    {
      "cell_type": "code",
      "metadata": {
        "id": "X9mUxau3NaWb",
        "colab_type": "code",
        "outputId": "b9c852f6-c0f8-4971-df05-74414d900912",
        "colab": {
          "base_uri": "https://localhost:8080/",
          "height": 581
        }
      },
      "source": [
        "model.compile(optimizer='adam', loss='categorical_crossentropy', metrics=['accuracy'])\n",
        "model.summary()\n",
        "model.fit(X_train,Y_train,batch_size=32, epochs=10, verbose=1, validation_split=0.01)"
      ],
      "execution_count": 66,
      "outputs": [
        {
          "output_type": "stream",
          "text": [
            "Model: \"sequential_5\"\n",
            "_________________________________________________________________\n",
            "Layer (type)                 Output Shape              Param #   \n",
            "=================================================================\n",
            "dense_5 (Dense)              (None, 4)                 12548     \n",
            "=================================================================\n",
            "Total params: 12,548\n",
            "Trainable params: 12,548\n",
            "Non-trainable params: 0\n",
            "_________________________________________________________________\n",
            "Train on 98999 samples, validate on 1000 samples\n",
            "Epoch 1/10\n",
            "98999/98999 [==============================] - 13s 128us/step - loss: 0.7644 - accuracy: 0.6800 - val_loss: 0.6671 - val_accuracy: 0.7250\n",
            "Epoch 2/10\n",
            "98999/98999 [==============================] - 13s 127us/step - loss: 0.6717 - accuracy: 0.7189 - val_loss: 0.6321 - val_accuracy: 0.7660\n",
            "Epoch 3/10\n",
            "98999/98999 [==============================] - 12s 126us/step - loss: 0.6545 - accuracy: 0.7256 - val_loss: 0.6274 - val_accuracy: 0.7160\n",
            "Epoch 4/10\n",
            "98999/98999 [==============================] - 12s 126us/step - loss: 0.6522 - accuracy: 0.7243 - val_loss: 0.6114 - val_accuracy: 0.7670\n",
            "Epoch 5/10\n",
            "98999/98999 [==============================] - 12s 126us/step - loss: 0.6465 - accuracy: 0.7269 - val_loss: 0.6414 - val_accuracy: 0.7190\n",
            "Epoch 6/10\n",
            "98999/98999 [==============================] - 12s 125us/step - loss: 0.6398 - accuracy: 0.7301 - val_loss: 0.6601 - val_accuracy: 0.7110\n",
            "Epoch 7/10\n",
            "98999/98999 [==============================] - 16s 163us/step - loss: 0.6341 - accuracy: 0.7331 - val_loss: 0.7231 - val_accuracy: 0.6960\n",
            "Epoch 8/10\n",
            "98999/98999 [==============================] - 13s 127us/step - loss: 0.6364 - accuracy: 0.7303 - val_loss: 0.6049 - val_accuracy: 0.7500\n",
            "Epoch 9/10\n",
            "98999/98999 [==============================] - 12s 125us/step - loss: 0.6347 - accuracy: 0.7329 - val_loss: 0.6291 - val_accuracy: 0.7270\n",
            "Epoch 10/10\n",
            "98999/98999 [==============================] - 12s 126us/step - loss: 0.6298 - accuracy: 0.7358 - val_loss: 0.6743 - val_accuracy: 0.7110\n"
          ],
          "name": "stdout"
        },
        {
          "output_type": "execute_result",
          "data": {
            "text/plain": [
              "<keras.callbacks.callbacks.History at 0x7f7644033f60>"
            ]
          },
          "metadata": {
            "tags": []
          },
          "execution_count": 66
        }
      ]
    },
    {
      "cell_type": "code",
      "metadata": {
        "id": "oVvq_fKGNhIk",
        "colab_type": "code",
        "outputId": "88779dfd-b507-475d-ff25-b935a33b6413",
        "colab": {
          "base_uri": "https://localhost:8080/",
          "height": 34
        }
      },
      "source": [
        "preds = model.predict(X_train[-1000:], verbose=1)"
      ],
      "execution_count": 67,
      "outputs": [
        {
          "output_type": "stream",
          "text": [
            "1000/1000 [==============================] - 0s 66us/step\n"
          ],
          "name": "stdout"
        }
      ]
    },
    {
      "cell_type": "code",
      "metadata": {
        "id": "euEubPJzOIJx",
        "colab_type": "code",
        "outputId": "0c2f175d-8d01-427b-f9c8-71b4532702d0",
        "colab": {
          "base_uri": "https://localhost:8080/",
          "height": 384
        }
      },
      "source": [
        "ix = 8 #Type a number between 0 and 999 inclusive\n",
        "if(X_train_img[99999-(1000-ix),0,0,0]>1):\n",
        "  plt.imshow(np.squeeze(X_train_img[99999-(1000-ix),:,:,0:3]).astype(float)/255) #Only seeing the RGB channels\n",
        "else:\n",
        "  plt.imshow(np.squeeze(X_train_img[99999-(1000-ix),:,:,0:3]).astype(float))\n",
        "plt.show()\n",
        "#Tells what the image is\n",
        "print ('Prediction:\\n{:.1f}% probability barren land,\\n{:.1f}% probability trees,\\n{:.1f}% probability grassland,\\n{:.1f}% probability other\\n'.format(preds[ix,0]*100,preds[ix,1]*100,preds[ix,2]*100,preds[ix,3]*100))\n",
        "\n",
        "print ('Ground Truth: ',end='')\n",
        "if Y_train[99999-(1000-ix),0] == 1:\n",
        "    print ('Barren Land')\n",
        "elif Y_train[99999-(1000-ix),1] == 1:\n",
        "    print ('Trees')\n",
        "elif Y_train[99999-(1000-ix),2] == 1:\n",
        "    print ('Grassland')\n",
        "else:\n",
        "    print ('Other')"
      ],
      "execution_count": 70,
      "outputs": [
        {
          "output_type": "display_data",
          "data": {
            "image/png": "[encoded data removed]",
            "text/plain": [
              "<Figure size 432x288 with 1 Axes>"
            ]
          },
          "metadata": {
            "tags": [],
            "needs_background": "light"
          }
        },
        {
          "output_type": "stream",
          "text": [
            "Prediction:\n",
            "100.0% probability barren land,\n",
            "0.0% probability trees,\n",
            "0.0% probability grassland,\n",
            "0.0% probability other\n",
            "\n",
            "Ground Truth: Barren Land\n"
          ],
          "name": "stdout"
        }
      ]
    },
    {
      "cell_type": "code",
      "metadata": {
        "id": "exqhScaaONS_",
        "colab_type": "code",
        "colab": {}
      },
      "source": [
        "'''#for any new image\n",
        "from skimage.io import imread\n",
        "import matplotlib.image as mpimg\n",
        "im=mpimg.imread(\"path of the image\")\n",
        "plt.imshow(im) #Only seeing the RGB channels\n",
        "plt.show()\n",
        "preds0=model.predict(im,verbose=1)\n",
        "#Tells what the image is\n",
        "print ('Prediction:\\n{:.1f}% probability barren land,\\n{:.1f}% probability trees,\\n{:.1f}% probability grassland,\\n{:.1f}% probability other\\n'.format(preds0[0]*100,preds0[1]*100,preds0[2]*100,preds[3]*100))\n",
        "\n",
        "print ('Ground Truth: ',end='')\n",
        "if Y_train[99999-(1000-ix),0] == 1:\n",
        "    print ('Barren Land')\n",
        "elif Y_train[99999-(1000-ix),1] == 1:\n",
        "    print ('Trees')\n",
        "elif Y_train[99999-(1000-ix),2] == 1:\n",
        "    print ('Grassland')\n",
        "else:\n",
        "    print ('Other')'''"
      ],
      "execution_count": 0,
      "outputs": []
    }
  ]
}